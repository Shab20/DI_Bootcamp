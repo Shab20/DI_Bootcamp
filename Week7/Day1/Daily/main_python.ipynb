{
 "cells": [
  {
   "cell_type": "code",
   "execution_count": 1,
   "metadata": {},
   "outputs": [
    {
     "name": "stdout",
     "output_type": "stream",
     "text": [
      "[97, 67, 52, 75, 38, 96]\n",
      "38\n",
      "11\n",
      "52\n",
      "67\n",
      "94\n",
      "[[84, 94, 38, 36, 41, 178], [13, 50, 11, 32, 8, 63], [97, 67, 52, 75, 38, 164], [49, 17, 67, 40, 41, 66], [7, 7, 7, 7, 7, 14]]\n"
     ]
    }
   ],
   "source": [
    "import random\n",
    "\n",
    "M = 5\n",
    "N = 6\n",
    "\n",
    "# Create MxN table filled with random integers between 1 and 100\n",
    "table = [[random.randint(1, 100) for j in range(N)] for i in range(M)]\n",
    "\n",
    "# Print out the third row\n",
    "print(table[2])\n",
    "\n",
    "# Print out the third column\n",
    "for i in range(M):\n",
    "    print(table[i][2])\n",
    "\n",
    "# Set every element in the last row equal to 7\n",
    "for j in range(N):\n",
    "    table[M-1][j] = 7\n",
    "\n",
    "# Set every element in the last column equal to the sum of the first two columns\n",
    "first_two_cols_sum = [sum(row[:2]) for row in table]\n",
    "for i in range(M):\n",
    "    table[i][N-1] = first_two_cols_sum[i]\n",
    "\n",
    "print(table)\n"
   ]
  }
 ],
 "metadata": {
  "kernelspec": {
   "display_name": "Python 3",
   "language": "python",
   "name": "python3"
  },
  "language_info": {
   "codemirror_mode": {
    "name": "ipython",
    "version": 3
   },
   "file_extension": ".py",
   "mimetype": "text/x-python",
   "name": "python",
   "nbconvert_exporter": "python",
   "pygments_lexer": "ipython3",
   "version": "3.10.10"
  },
  "orig_nbformat": 4
 },
 "nbformat": 4,
 "nbformat_minor": 2
}
