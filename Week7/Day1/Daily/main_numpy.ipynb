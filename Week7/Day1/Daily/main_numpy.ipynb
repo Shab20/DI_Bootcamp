{
 "cells": [
  {
   "cell_type": "code",
   "execution_count": 1,
   "metadata": {},
   "outputs": [
    {
     "name": "stdout",
     "output_type": "stream",
     "text": [
      "[78 10 21 67 63 40]\n",
      "[73 89 21  4 12]\n",
      "[[  8  12  73  94  57  20]\n",
      " [ 53  71  89  77  68 124]\n",
      " [ 78  10  21  67  63  88]\n",
      " [ 43  59   4  76  76 102]\n",
      " [  7   7   7   7   7  14]]\n"
     ]
    }
   ],
   "source": [
    "import numpy as np\n",
    "\n",
    "M = 5\n",
    "N = 6\n",
    "\n",
    "# Create MxN table filled with random integers between 1 and 100\n",
    "table = np.random.randint(1, 100, size=(M, N))\n",
    "\n",
    "# Print out the third row\n",
    "print(table[2])\n",
    "\n",
    "# Print out the third column\n",
    "print(table[:, 2])\n",
    "\n",
    "# Set every element in the last row equal to 7\n",
    "table[-1, :] = 7\n",
    "\n",
    "# Set every element in the last column equal to the sum of the first two columns\n",
    "first_two_cols_sum = table[:, :2].sum(axis=1)\n",
    "table[:, -1] = first_two_cols_sum\n",
    "\n",
    "print(table)\n"
   ]
  }
 ],
 "metadata": {
  "kernelspec": {
   "display_name": "Python 3",
   "language": "python",
   "name": "python3"
  },
  "language_info": {
   "codemirror_mode": {
    "name": "ipython",
    "version": 3
   },
   "file_extension": ".py",
   "mimetype": "text/x-python",
   "name": "python",
   "nbconvert_exporter": "python",
   "pygments_lexer": "ipython3",
   "version": "3.10.10"
  },
  "orig_nbformat": 4
 },
 "nbformat": 4,
 "nbformat_minor": 2
}
