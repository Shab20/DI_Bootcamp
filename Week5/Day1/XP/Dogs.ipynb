{
 "cells": [
  {
   "cell_type": "code",
   "execution_count": 1,
   "metadata": {},
   "outputs": [
    {
     "name": "stdout",
     "output_type": "stream",
     "text": [
      "David's dog is named Rex and is 50 cm tall.\n",
      "Rex goes woof!\n",
      "Rex jumps 100 cm high!\n",
      "Sarah's dog is named Teacup and is 20 cm tall.\n",
      "Teacup goes woof!\n",
      "Teacup jumps 40 cm high!\n",
      "Rex is bigger.\n"
     ]
    }
   ],
   "source": [
    "class Dog:\n",
    "    def __init__(self, name, height):\n",
    "        self.name = name\n",
    "        self.height = height\n",
    "    \n",
    "    def bark(self):\n",
    "        print(f\"{self.name} goes woof!\")\n",
    "    \n",
    "    def jump(self):\n",
    "        jump_height = self.height * 2\n",
    "        print(f\"{self.name} jumps {jump_height} cm high!\")\n",
    "\n",
    "\n",
    "davids_dog = Dog(\"Rex\", 50)\n",
    "print(f\"David's dog is named {davids_dog.name} and is {davids_dog.height} cm tall.\")\n",
    "davids_dog.bark()\n",
    "davids_dog.jump()\n",
    "\n",
    "sarahs_dog = Dog(\"Teacup\", 20)\n",
    "print(f\"Sarah's dog is named {sarahs_dog.name} and is {sarahs_dog.height} cm tall.\")\n",
    "sarahs_dog.bark()\n",
    "sarahs_dog.jump()\n",
    "\n",
    "if davids_dog.height > sarahs_dog.height:\n",
    "    print(f\"{davids_dog.name} is bigger.\")\n",
    "else:\n",
    "    print(f\"{sarahs_dog.name} is bigger.\")\n"
   ]
  }
 ],
 "metadata": {
  "kernelspec": {
   "display_name": "Python 3",
   "language": "python",
   "name": "python3"
  },
  "language_info": {
   "codemirror_mode": {
    "name": "ipython",
    "version": 3
   },
   "file_extension": ".py",
   "mimetype": "text/x-python",
   "name": "python",
   "nbconvert_exporter": "python",
   "pygments_lexer": "ipython3",
   "version": "3.10.10"
  },
  "orig_nbformat": 4
 },
 "nbformat": 4,
 "nbformat_minor": 2
}
