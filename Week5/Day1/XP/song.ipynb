{
 "cells": [
  {
   "cell_type": "code",
   "execution_count": null,
   "metadata": {},
   "outputs": [],
   "source": [
    "class Song:\n",
    "    def __init__(self,lyrics):\n",
    "        self.lyrics=[]\n",
    "\n",
    "    def sing_me_a_song(self):\n",
    "        print(f\"{self.lyrics}\")\n",
    "        \n",
    "stairway= Song([\"There’s a lady who's sure\",\"all that glitters is gold\", \"and she’s buying a stairway to heaven\"])"
   ]
  }
 ],
 "metadata": {
  "language_info": {
   "name": "python"
  },
  "orig_nbformat": 4
 },
 "nbformat": 4,
 "nbformat_minor": 2
}
