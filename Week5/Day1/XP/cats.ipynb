{
 "cells": [
  {
   "cell_type": "code",
   "execution_count": 1,
   "metadata": {},
   "outputs": [
    {
     "name": "stdout",
     "output_type": "stream",
     "text": [
      "The oldest cat is Fluffy, and is 5 years old.\n"
     ]
    }
   ],
   "source": [
    "class Cat:\n",
    "    def __init__(self, cat_name, cat_age):\n",
    "        self.name = cat_name\n",
    "        self.age = cat_age\n",
    "\n",
    "# 1. Instantiate three Cat objects\n",
    "cat1 = Cat(\"Whiskers\", 3)\n",
    "cat2 = Cat(\"Fluffy\", 5)\n",
    "cat3 = Cat(\"Mittens\", 2)\n",
    "\n",
    "# 2. Function to find the oldest cat\n",
    "def find_oldest_cat(cats):\n",
    "    oldest_cat = None\n",
    "    max_age = 0\n",
    "    for cat in cats:\n",
    "        if cat.age > max_age:\n",
    "            oldest_cat = cat\n",
    "            max_age = cat.age\n",
    "    return oldest_cat\n",
    "\n",
    "# 3. Print the oldest cat\n",
    "oldest_cat = find_oldest_cat([cat1, cat2, cat3])\n",
    "print(f\"The oldest cat is {oldest_cat.name}, and is {oldest_cat.age} years old.\")"
   ]
  }
 ],
 "metadata": {
  "kernelspec": {
   "display_name": "Python 3",
   "language": "python",
   "name": "python3"
  },
  "language_info": {
   "codemirror_mode": {
    "name": "ipython",
    "version": 3
   },
   "file_extension": ".py",
   "mimetype": "text/x-python",
   "name": "python",
   "nbconvert_exporter": "python",
   "pygments_lexer": "ipython3",
   "version": "3.10.10"
  },
  "orig_nbformat": 4,
  "vscode": {
   "interpreter": {
    "hash": "b2dfbc78bd30d815faad88398e2ce29e3df80d037687287d3d9150cac40b3e74"
   }
  }
 },
 "nbformat": 4,
 "nbformat_minor": 2
}
